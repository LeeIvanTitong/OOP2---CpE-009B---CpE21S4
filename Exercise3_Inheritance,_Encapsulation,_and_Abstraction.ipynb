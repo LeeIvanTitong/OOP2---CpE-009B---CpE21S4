{
  "nbformat": 4,
  "nbformat_minor": 0,
  "metadata": {
    "colab": {
      "provenance": [],
      "authorship_tag": "ABX9TyMDm6B0PcUbVK6TtZEyoe6r",
      "include_colab_link": true
    },
    "kernelspec": {
      "name": "python3",
      "display_name": "Python 3"
    },
    "language_info": {
      "name": "python"
    }
  },
  "cells": [
    {
      "cell_type": "markdown",
      "metadata": {
        "id": "view-in-github",
        "colab_type": "text"
      },
      "source": [
        "<a href=\"https://colab.research.google.com/github/LeeIvanTitong/OOP2---CpE-009B---CpE21S4/blob/main/Laboratory_Activity_3_Inheritance%2C_Encapsulation%2C_and_Abstraction.ipynb\" target=\"_parent\"><img src=\"https://colab.research.google.com/assets/colab-badge.svg\" alt=\"Open In Colab\"/></a>"
      ]
    },
    {
      "cell_type": "markdown",
      "source": [
        "# **Laboratory Activity 3: Inheritance, Encapsulation, and Abstraction**\n",
        "Create a program in python that satisfies the following:\n",
        "\n",
        " Inheritance, Encapsulation, and Abstraction concept with ADT list\n",
        "Class(Employee: emp_id. emp_name, emp_address, Fulltime: allowance, rate, PartTime: rate)\n",
        "Class(Salary: salary_id, Salary, cut_off_date, days_of_work)"
      ],
      "metadata": {
        "id": "gKS7PCo6T4x0"
      }
    },
    {
      "cell_type": "code",
      "execution_count": 2,
      "metadata": {
        "colab": {
          "base_uri": "https://localhost:8080/"
        },
        "id": "4XhEG2LhO738",
        "outputId": "4fd068df-6d16-4bb7-c782-bef18cde3768"
      },
      "outputs": [
        {
          "output_type": "stream",
          "name": "stdout",
          "text": [
            "{'Salary ID': 101, 'Employee Details': {'ID': 1, 'Name': 'John Doe', 'Address': '123 Abc St'}, 'Cut-off Date': '2024-09-30', 'Days of Work': 28, 'Salary': 3300}\n",
            "{'Salary ID': 102, 'Employee Details': {'ID': 2, 'Name': 'Jane Smith', 'Address': '455 Def St'}, 'Cut-off Date': '2024-09-30', 'Days of Work': 15, 'Salary': 1200}\n"
          ]
        }
      ],
      "source": [
        "# Base class for Employee\n",
        "class Employee:\n",
        "    def __init__(self, emp_id, emp_name, emp_address):\n",
        "        # Protected and private attributes\n",
        "        self._emp_id = emp_id          # Protected attribute\n",
        "        self.__emp_name = emp_name     # Private attribute\n",
        "        self.__emp_address = emp_address  # Private attribute\n",
        "\n",
        "    # Encapsulation: Getter method to access employee details\n",
        "    def get_emp_details(self):\n",
        "        return {\n",
        "            \"ID\": self._emp_id,\n",
        "            \"Name\": self.__emp_name,\n",
        "            \"Address\": self.__emp_address\n",
        "        }\n",
        "\n",
        "    # Abstract method (to be overridden by child classes)\n",
        "    def calculate_salary(self, days_of_work):\n",
        "        pass  # Defined in Fulltime and PartTime classes\n",
        "\n",
        "\n",
        "# Fulltime Employee class inheriting from Employee\n",
        "class Fulltime(Employee):\n",
        "    def __init__(self, emp_id, emp_name, emp_address, allowance, rate):\n",
        "        # Initialize base class (Employee) attributes\n",
        "        super().__init__(emp_id, emp_name, emp_address)\n",
        "        # Full-time specific attributes\n",
        "        self._allowance = allowance    # Protected attribute\n",
        "        self._rate = rate              # Protected attribute\n",
        "\n",
        "    # Override the calculate_salary method for full-time employees\n",
        "    def calculate_salary(self, days_of_work):\n",
        "        return self._rate * days_of_work + self._allowance\n",
        "\n",
        "\n",
        "# Part-time Employee class inheriting from Employee\n",
        "class PartTime(Employee):\n",
        "    def __init__(self, emp_id, emp_name, emp_address, rate):\n",
        "        # Initialize base class (Employee) attributes\n",
        "        super().__init__(emp_id, emp_name, emp_address)\n",
        "        # Part-time specific attribute\n",
        "        self._rate = rate  # Protected attribute\n",
        "\n",
        "    # Override the calculate_salary method for part-time employees\n",
        "    def calculate_salary(self, days_of_work):\n",
        "        return self._rate * days_of_work\n",
        "\n",
        "\n",
        "# Salary class to handle salary details\n",
        "class Salary:\n",
        "    def __init__(self, salary_id, employee, cut_off_date, days_of_work):\n",
        "        # Salary-specific attributes\n",
        "        self.__salary_id = salary_id       # Private attribute\n",
        "        self.__employee = employee         # Employee object\n",
        "        self.__cut_off_date = cut_off_date  # Private attribute\n",
        "        self.__days_of_work = days_of_work  # Private attribute\n",
        "\n",
        "        # Calculate salary using the employee's calculate_salary method\n",
        "        self._salary = self.__employee.calculate_salary(days_of_work)\n",
        "\n",
        "    # Encapsulation: Getter method to access salary details\n",
        "    def get_salary_details(self):\n",
        "        return {\n",
        "            \"Salary ID\": self.__salary_id,\n",
        "            \"Employee Details\": self.__employee.get_emp_details(),\n",
        "            \"Cut-off Date\": self.__cut_off_date,\n",
        "            \"Days of Work\": self.__days_of_work,\n",
        "            \"Salary\": self._salary\n",
        "        }\n",
        "\n",
        "\n",
        "# ADT list to store employees and salaries\n",
        "employee_list = []\n",
        "salary_list = []\n",
        "\n",
        "# Creating Full-time and Part-time employee instances\n",
        "fulltime_emp = Fulltime(1, \"John Doe\", \"123 Abc St\", allowance=500, rate=100)\n",
        "parttime_emp = PartTime(2, \"Jane Smith\", \"455 Def St\", rate=80)\n",
        "\n",
        "# Adding employees to the employee list (ADT list)\n",
        "employee_list.append(fulltime_emp)\n",
        "employee_list.append(parttime_emp)\n",
        "\n",
        "# Creating Salary instances for the employees\n",
        "salary1 = Salary(101, fulltime_emp, \"2024-09-30\", 28)\n",
        "salary2 = Salary(102, parttime_emp, \"2024-09-30\", 15)\n",
        "\n",
        "# Adding salary objects to the salary list (ADT list)\n",
        "salary_list.append(salary1)\n",
        "salary_list.append(salary2)\n",
        "\n",
        "# Display salary details for each employee\n",
        "for salary in salary_list:\n",
        "    print(salary.get_salary_details())\n"
      ]
    }
  ]
}
