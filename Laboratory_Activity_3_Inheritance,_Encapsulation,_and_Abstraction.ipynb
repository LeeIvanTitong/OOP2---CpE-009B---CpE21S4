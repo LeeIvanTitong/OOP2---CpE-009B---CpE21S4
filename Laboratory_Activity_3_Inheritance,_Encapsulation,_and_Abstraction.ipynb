{
  "nbformat": 4,
  "nbformat_minor": 0,
  "metadata": {
    "colab": {
      "provenance": [],
      "authorship_tag": "ABX9TyPTRmyVE8N72r4KNSUmhEMA",
      "include_colab_link": true
    },
    "kernelspec": {
      "name": "python3",
      "display_name": "Python 3"
    },
    "language_info": {
      "name": "python"
    }
  },
  "cells": [
    {
      "cell_type": "markdown",
      "metadata": {
        "id": "view-in-github",
        "colab_type": "text"
      },
      "source": [
        "<a href=\"https://colab.research.google.com/github/LeeIvanTitong/OOP2---CpE-009B---CpE21S4/blob/main/Laboratory_Activity_3_Inheritance%2C_Encapsulation%2C_and_Abstraction.ipynb\" target=\"_parent\"><img src=\"https://colab.research.google.com/assets/colab-badge.svg\" alt=\"Open In Colab\"/></a>"
      ]
    },
    {
      "cell_type": "markdown",
      "source": [
        "# **Laboratory Activity 3: Inheritance, Encapsulation, and Abstraction**\n",
        "Create a program in python that satisfies the following:\n",
        "\n",
        " Inheritance, Encapsulation, and Abstraction concept with ADT list\n",
        "Class(Employee: emp_id. emp_name, emp_address, Fulltime: allowance, rate, PartTime: rate)\n",
        "Class(Salary: salary_id, Salary, cut_off_date, days_of_work)"
      ],
      "metadata": {
        "id": "gKS7PCo6T4x0"
      }
    },
    {
      "cell_type": "code",
      "execution_count": 1,
      "metadata": {
        "colab": {
          "base_uri": "https://localhost:8080/"
        },
        "id": "4XhEG2LhO738",
        "outputId": "2eb91d40-17b7-4bff-e3be-62a49369df84"
      },
      "outputs": [
        {
          "output_type": "stream",
          "name": "stdout",
          "text": [
            "Employee: John Doe, Salary: 2700, Days of Work: 22\n",
            "Employee: Jane Smith, Salary: 750, Days of Work: 15\n"
          ]
        }
      ],
      "source": [
        "from abc import ABC, abstractmethod\n",
        "from datetime import date\n",
        "\n",
        "# Abstract Base Class for Employee\n",
        "class Employee(ABC):\n",
        "    def __init__(self, emp_id, emp_name, emp_address):\n",
        "        self.__emp_id = emp_id         # Private attribute\n",
        "        self.__emp_name = emp_name     # Private attribute\n",
        "        self.__emp_address = emp_address   # Private attribute\n",
        "\n",
        "    # Encapsulation: Getters and Setters for private attributes\n",
        "    def get_emp_id(self):\n",
        "        return self.__emp_id\n",
        "\n",
        "    def get_emp_name(self):\n",
        "        return self.__emp_name\n",
        "\n",
        "    def get_emp_address(self):\n",
        "        return self.__emp_address\n",
        "\n",
        "    def set_emp_address(self, address):\n",
        "        self.__emp_address = address\n",
        "\n",
        "    @abstractmethod\n",
        "    def calculate_salary(self):\n",
        "        pass\n",
        "\n",
        "# Full-time Employee class inherits from Employee\n",
        "class FulltimeEmployee(Employee):\n",
        "    def __init__(self, emp_id, emp_name, emp_address, allowance, rate):\n",
        "        super().__init__(emp_id, emp_name, emp_address)\n",
        "        self.allowance = allowance  # Public attribute\n",
        "        self.rate = rate            # Public attribute\n",
        "\n",
        "    # Implement the abstract method\n",
        "    def calculate_salary(self, days_of_work):\n",
        "        # Salary calculation for full-time employee\n",
        "        return self.allowance + (self.rate * days_of_work)\n",
        "\n",
        "# Part-time Employee class inherits from Employee\n",
        "class PartTimeEmployee(Employee):\n",
        "    def __init__(self, emp_id, emp_name, emp_address, rate):\n",
        "        super().__init__(emp_id, emp_name, emp_address)\n",
        "        self.rate = rate  # Public attribute\n",
        "\n",
        "    # Implement the abstract method\n",
        "    def calculate_salary(self, days_of_work):\n",
        "        # Salary calculation for part-time employee\n",
        "        return self.rate * days_of_work\n",
        "\n",
        "# Salary class to encapsulate salary information\n",
        "class Salary:\n",
        "    def __init__(self, salary_id, salary_amount, cut_off_date, days_of_work):\n",
        "        self.salary_id = salary_id      # Public attribute\n",
        "        self.salary_amount = salary_amount  # Public attribute\n",
        "        self.cut_off_date = cut_off_date    # Public attribute\n",
        "        self.days_of_work = days_of_work    # Public attribute\n",
        "\n",
        "    # Encapsulation: Getter and Setter for salary_amount\n",
        "    def get_salary_amount(self):\n",
        "        return self.salary_amount\n",
        "\n",
        "    def set_salary_amount(self, amount):\n",
        "        self.salary_amount = amount\n",
        "\n",
        "# Example of using ADT list to store employees and their salaries\n",
        "employee_list = []\n",
        "salary_list = []\n",
        "\n",
        "# Create instances of FulltimeEmployee and PartTimeEmployee\n",
        "fulltime_emp = FulltimeEmployee(1, \"John Doe\", \"123 Elm St\", allowance=500, rate=100)\n",
        "parttime_emp = PartTimeEmployee(2, \"Jane Smith\", \"456 Oak St\", rate=50)\n",
        "\n",
        "# Calculate salaries for both employees\n",
        "ft_salary = fulltime_emp.calculate_salary(days_of_work=22)\n",
        "pt_salary = parttime_emp.calculate_salary(days_of_work=15)\n",
        "\n",
        "# Create Salary instances\n",
        "salary1 = Salary(1, ft_salary, date(2024, 9, 30), 22)\n",
        "salary2 = Salary(2, pt_salary, date(2024, 9, 30), 15)\n",
        "\n",
        "# Add employees and salaries to the ADT list\n",
        "employee_list.append(fulltime_emp)\n",
        "employee_list.append(parttime_emp)\n",
        "salary_list.append(salary1)\n",
        "salary_list.append(salary2)\n",
        "\n",
        "# Example of accessing data\n",
        "for emp, sal in zip(employee_list, salary_list):\n",
        "    print(f\"Employee: {emp.get_emp_name()}, Salary: {sal.get_salary_amount()}, Days of Work: {sal.days_of_work}\")\n"
      ]
    }
  ]
}