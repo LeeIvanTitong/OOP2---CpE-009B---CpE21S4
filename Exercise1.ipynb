{
  "nbformat": 4,
  "nbformat_minor": 0,
  "metadata": {
    "colab": {
      "provenance": [],
      "authorship_tag": "ABX9TyMcgCvNSkkOPVcuDtrn79+m",
      "include_colab_link": true
    },
    "kernelspec": {
      "name": "python3",
      "display_name": "Python 3"
    },
    "language_info": {
      "name": "python"
    }
  },
  "cells": [
    {
      "cell_type": "markdown",
      "metadata": {
        "id": "view-in-github",
        "colab_type": "text"
      },
      "source": [
        "<a href=\"https://colab.research.google.com/github/LeeIvanTitong/OOP2---CpE-009B---CpE21S4/blob/main/OOP_Exercise1.ipynb\" target=\"_parent\"><img src=\"https://colab.research.google.com/assets/colab-badge.svg\" alt=\"Open In Colab\"/></a>"
      ]
    },
    {
      "cell_type": "code",
      "source": [],
      "metadata": {
        "id": "l1v8X8psIfpH"
      },
      "execution_count": null,
      "outputs": []
    },
    {
      "cell_type": "code",
      "execution_count": null,
      "metadata": {
        "colab": {
          "base_uri": "https://localhost:8080/"
        },
        "id": "y39wXud4FkcM",
        "outputId": "7b3aefc2-a56b-4753-f687-1f7f5fce1017"
      },
      "outputs": [
        {
          "output_type": "stream",
          "name": "stdout",
          "text": [
            "1\n"
          ]
        }
      ],
      "source": [
        "class Number:\n",
        "  def __init__(self, x):\n",
        "    self.x = x\n",
        "\n",
        "x=1\n",
        "print(x)"
      ]
    },
    {
      "source": [
        "class Number:\n",
        "  def __init__(self, name, age, birthdate):\n",
        "    self.name = name\n",
        "    self.age = age\n",
        "    self.birthdate = birthdate\n",
        "\n",
        "def person_attribute(self):\n",
        "  return f\"My name is {self.name} and with an age of {self.age} and birthdate of {self.birthdate} \" #This line was not indented\n",
        "\n",
        "class Number:\n",
        "  def __init__(self, name, age, birthdate):\n",
        "    self.name = name\n",
        "    self.age = age\n",
        "    self.birthdate = birthdate\n",
        "\n",
        "  def person_attribute(self):\n",
        "    return f\"My name is {self.name} and with an age of {self.age} and birthdate of {self.birthdate} \"\n",
        "\n",
        "p1 = Number(\"Titong\", 19, 6)\n",
        "\n",
        "print(p1.person_attribute())\n",
        "\n"
      ],
      "cell_type": "code",
      "metadata": {
        "colab": {
          "base_uri": "https://localhost:8080/"
        },
        "id": "jDA0L7t2LXw4",
        "outputId": "85e281b4-d079-46d3-cc51-6a257b3e6aec"
      },
      "execution_count": null,
      "outputs": [
        {
          "output_type": "stream",
          "name": "stdout",
          "text": [
            "My name is AAA and with an age of 19 and birthdate of December 06 2004 \n",
            "My name is AAA and with an age of 19 and birthdate of December 06 2004 \n",
            "Mark\n",
            "20\n",
            "April 7, 2001\n"
          ]
        }
      ]
    },
    {
      "cell_type": "code",
      "source": [
        "class Person:\n",
        "  def __init__(self, name, age, birthdate):\n",
        "    self.name = name\n",
        "    self.age = age\n",
        "    self.birthdate = birthdate\n",
        "\n",
        "  def person_attribute(self):\n",
        "    return f\"My name is {self.name} and with an age of {self.age} and birthdate of {self.birthdate} \"\n",
        "\n",
        "class Teacher(Person):\n",
        "  pass\n",
        "class Student(Person):\n",
        "  pass\n",
        "\n",
        "person = Person(\"Titong\", 19, \"December 06 2004\")\n",
        "print(person.person_attribute())\n",
        "student = Student(\"Mark\", 20, \"April 7 2004\")\n",
        "print(student.person_attribute())\n",
        "teacher = Teacher(\"Mam Sayo\", 40, \"June 24 1983\")\n",
        "print(teacher.person_attribute())\n",
        "\n"
      ],
      "metadata": {
        "colab": {
          "base_uri": "https://localhost:8080/"
        },
        "id": "NK7ouIt5QqUn",
        "outputId": "4b52a64a-c320-4ebd-9951-37e439823c74"
      },
      "execution_count": null,
      "outputs": [
        {
          "output_type": "stream",
          "name": "stdout",
          "text": [
            "My name is Titong and with an age of 19 and birthdate of December 06 2004 \n",
            "My name is Mark and with an age of 20 and birthdate of April 7 2004 \n",
            "My name is Mam Sayo and with an age of 40 and birthdate of June 24 1983 \n"
          ]
        }
      ]
    },
    {
      "cell_type": "code",
      "source": [
        "class Shapes:\n",
        "  def __init__(self,side1,side2):\n",
        "    self.side1 = side1\n",
        "    self.side2 = side2\n",
        "\n",
        "  def Perimeter(self):\n",
        "    return 2*(self.side1 + self.side2)\n",
        "\n",
        "  def Area(self):\n",
        "    return (self.side1 * self.side2)\n",
        "\n",
        "class Rectangle(Shapes):\n",
        "  pass\n",
        "\n",
        "class Square(Shapes):\n",
        "  pass\n",
        "\n",
        "rectangle = Rectangle(3,5)\n",
        "print(\"The perimeter of the rectangle is\",\n",
        "      rectangle.Perimeter())\n",
        "print(\"The area of the rectangle is\",\n",
        "      rectangle.Area())\n",
        "\n",
        "square = Square(3,5)\n",
        "print(\"The perimeter of the square is\",\n",
        "      square.Perimeter())\n",
        "print(\"The area of the square is\",\n",
        "      square.Area())"
      ],
      "metadata": {
        "colab": {
          "base_uri": "https://localhost:8080/"
        },
        "id": "T0uhHljqaPez",
        "outputId": "ae97dc71-3c5b-4362-9743-914439fe987d"
      },
      "execution_count": null,
      "outputs": [
        {
          "output_type": "stream",
          "name": "stdout",
          "text": [
            "The perimeter of the rectangle is 22\n",
            "The area of the rectangle is 30\n",
            "The perimeter of the square is 20\n",
            "The area of the square is 25\n"
          ]
        }
      ]
    }
  ]
}
